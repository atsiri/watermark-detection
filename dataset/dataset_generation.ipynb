{
 "cells": [
  {
   "cell_type": "markdown",
   "metadata": {},
   "source": [
    "## dataset generation"
   ]
  },
  {
   "cell_type": "code",
   "execution_count": 67,
   "metadata": {},
   "outputs": [],
   "source": [
    "import sys\n",
    "sys.path.append('../')\n",
    "import pandas as pd\n",
    "import numpy as np\n",
    "import os\n",
    "from os.path import basename\n",
    "from PIL import Image\n",
    "from glob import glob\n",
    "import torch\n",
    "from sklearn.model_selection import train_test_split\n",
    "import os.path\n",
    "import shutil\n",
    "\n",
    "from watermarkmodel.utils import list_images"
   ]
  },
  {
   "cell_type": "markdown",
   "metadata": {},
   "source": [
    "get images dataset"
   ]
  },
  {
   "cell_type": "code",
   "execution_count": 57,
   "metadata": {},
   "outputs": [
    {
     "data": {
      "text/html": [
       "<div>\n",
       "<style scoped>\n",
       "    .dataframe tbody tr th:only-of-type {\n",
       "        vertical-align: middle;\n",
       "    }\n",
       "\n",
       "    .dataframe tbody tr th {\n",
       "        vertical-align: top;\n",
       "    }\n",
       "\n",
       "    .dataframe thead th {\n",
       "        text-align: right;\n",
       "    }\n",
       "</style>\n",
       "<table border=\"1\" class=\"dataframe\">\n",
       "  <thead>\n",
       "    <tr style=\"text-align: right;\">\n",
       "      <th></th>\n",
       "      <th>path</th>\n",
       "      <th>category</th>\n",
       "      <th>label</th>\n",
       "    </tr>\n",
       "  </thead>\n",
       "  <tbody>\n",
       "    <tr>\n",
       "      <th>0</th>\n",
       "      <td>../images/non_watermark/ihsgTXgMdZoCo4IF.jpg</td>\n",
       "      <td>non_watermark</td>\n",
       "      <td>0</td>\n",
       "    </tr>\n",
       "    <tr>\n",
       "      <th>1</th>\n",
       "      <td>../images/non_watermark/DVHJaVOChW1VeEjx.jpg</td>\n",
       "      <td>non_watermark</td>\n",
       "      <td>0</td>\n",
       "    </tr>\n",
       "    <tr>\n",
       "      <th>2</th>\n",
       "      <td>../images/non_watermark/CnJAPSZ7zrR3Sqxv.jpg</td>\n",
       "      <td>non_watermark</td>\n",
       "      <td>0</td>\n",
       "    </tr>\n",
       "    <tr>\n",
       "      <th>3</th>\n",
       "      <td>../images/non_watermark/VfDhIWbscmSkTbOr.jpg</td>\n",
       "      <td>non_watermark</td>\n",
       "      <td>0</td>\n",
       "    </tr>\n",
       "    <tr>\n",
       "      <th>4</th>\n",
       "      <td>../images/non_watermark/Is1gtOpiqGH8bLGz.jpg</td>\n",
       "      <td>non_watermark</td>\n",
       "      <td>0</td>\n",
       "    </tr>\n",
       "    <tr>\n",
       "      <th>...</th>\n",
       "      <td>...</td>\n",
       "      <td>...</td>\n",
       "      <td>...</td>\n",
       "    </tr>\n",
       "    <tr>\n",
       "      <th>136</th>\n",
       "      <td>../images/r123-watermark/ljtfo3Ie79ply8C4.jpg</td>\n",
       "      <td>r123-watermark</td>\n",
       "      <td>1</td>\n",
       "    </tr>\n",
       "    <tr>\n",
       "      <th>137</th>\n",
       "      <td>../images/r123-watermark/ucPHzY9JWg9BU0vV.jpg</td>\n",
       "      <td>r123-watermark</td>\n",
       "      <td>1</td>\n",
       "    </tr>\n",
       "    <tr>\n",
       "      <th>138</th>\n",
       "      <td>../images/r123-watermark/IqyfMrqcScPxb9bS.jpg</td>\n",
       "      <td>r123-watermark</td>\n",
       "      <td>1</td>\n",
       "    </tr>\n",
       "    <tr>\n",
       "      <th>139</th>\n",
       "      <td>../images/r123-watermark/cLAoxiZ092kU74de.jpg</td>\n",
       "      <td>r123-watermark</td>\n",
       "      <td>1</td>\n",
       "    </tr>\n",
       "    <tr>\n",
       "      <th>140</th>\n",
       "      <td>../images/r123-watermark/XlOpAus022GWo5rb.jpg</td>\n",
       "      <td>r123-watermark</td>\n",
       "      <td>1</td>\n",
       "    </tr>\n",
       "  </tbody>\n",
       "</table>\n",
       "<p>141 rows × 3 columns</p>\n",
       "</div>"
      ],
      "text/plain": [
       "                                              path        category  label\n",
       "0     ../images/non_watermark/ihsgTXgMdZoCo4IF.jpg   non_watermark      0\n",
       "1     ../images/non_watermark/DVHJaVOChW1VeEjx.jpg   non_watermark      0\n",
       "2     ../images/non_watermark/CnJAPSZ7zrR3Sqxv.jpg   non_watermark      0\n",
       "3     ../images/non_watermark/VfDhIWbscmSkTbOr.jpg   non_watermark      0\n",
       "4     ../images/non_watermark/Is1gtOpiqGH8bLGz.jpg   non_watermark      0\n",
       "..                                             ...             ...    ...\n",
       "136  ../images/r123-watermark/ljtfo3Ie79ply8C4.jpg  r123-watermark      1\n",
       "137  ../images/r123-watermark/ucPHzY9JWg9BU0vV.jpg  r123-watermark      1\n",
       "138  ../images/r123-watermark/IqyfMrqcScPxb9bS.jpg  r123-watermark      1\n",
       "139  ../images/r123-watermark/cLAoxiZ092kU74de.jpg  r123-watermark      1\n",
       "140  ../images/r123-watermark/XlOpAus022GWo5rb.jpg  r123-watermark      1\n",
       "\n",
       "[141 rows x 3 columns]"
      ]
     },
     "execution_count": 57,
     "metadata": {},
     "output_type": "execute_result"
    }
   ],
   "source": [
    "imagelist = list_images('../images/non_watermark/')+list_images('../images/r123-watermark/')\n",
    "category = [os.path.split(os.path.split(os.path.realpath(name))[0])[1] for name in imagelist]\n",
    "label = [1 if cat=='r123-watermark' else 0 for cat in category]\n",
    "\n",
    "df_imagelist = pd.DataFrame(list(zip(imagelist, category, label)), columns=['path', 'category', 'label'])\n",
    "df_imagelist"
   ]
  },
  {
   "cell_type": "markdown",
   "metadata": {},
   "source": [
    "split train test validation"
   ]
  },
  {
   "cell_type": "code",
   "execution_count": 59,
   "metadata": {},
   "outputs": [],
   "source": [
    "X_train, X_temp, y_train, y_temp = train_test_split(list(df_imagelist.path), list(df_imagelist.label), test_size=0.2, random_state=42)\n",
    "X_val, X_test, y_val, y_test = train_test_split(X_temp, y_temp, test_size=0.5, random_state=42)"
   ]
  },
  {
   "cell_type": "code",
   "execution_count": 61,
   "metadata": {},
   "outputs": [],
   "source": [
    "df_train = pd.DataFrame(list(zip(X_train, y_train)), columns=['path', 'label'])\n",
    "df_train.to_csv('train_data_v1.csv', index=False)\n",
    "\n",
    "df_val = pd.DataFrame(list(zip(X_val, y_val)), columns=['path', 'label'])\n",
    "df_val.to_csv('val_data_v1.csv', index=False)\n",
    "\n",
    "df_test = pd.DataFrame(list(zip(X_test, y_test)), columns=['path', 'label'])\n",
    "df_test.to_csv('test_data_v1.csv', index=False)"
   ]
  },
  {
   "cell_type": "code",
   "execution_count": 118,
   "metadata": {},
   "outputs": [
    {
     "name": "stdout",
     "output_type": "stream",
     "text": [
      "../images/non_watermark/bZLiwU5tEpXCZ6af.jpg\n",
      "../images/test_images/bZLiwU5tEpXCZ6af.jpg\n",
      "../images/non_watermark/ZgBqRHo3EIwBE5Sx.jpg\n",
      "../images/test_images/ZgBqRHo3EIwBE5Sx.jpg\n",
      "../images/non_watermark/GSdGPBGUpDlHtFB3.jpg\n",
      "../images/test_images/GSdGPBGUpDlHtFB3.jpg\n",
      "../images/r123-watermark/HyXe39tz4Bgdgxdn.png\n",
      "../images/test_images/HyXe39tz4Bgdgxdn.jpg\n",
      "../images/r123-watermark/fOZiLOQwSxZdxwRl.jpg\n",
      "../images/test_images/fOZiLOQwSxZdxwRl.jpg\n",
      "../images/non_watermark/8rTYBEpXxadDIsqN.jpg\n",
      "../images/test_images/8rTYBEpXxadDIsqN.jpg\n",
      "../images/non_watermark/zaSr0PPy8Ozb5j91.jpg\n",
      "../images/test_images/zaSr0PPy8Ozb5j91.jpg\n",
      "../images/non_watermark/Szndo6wJr7r6c142.jpg\n",
      "../images/test_images/Szndo6wJr7r6c142.jpg\n",
      "../images/non_watermark/X8rMOlzQ5VhObWBA.jpg\n",
      "../images/test_images/X8rMOlzQ5VhObWBA.jpg\n",
      "../images/r123-watermark/635Jvu8SQ7hfRVb9.jpg\n",
      "../images/test_images/635Jvu8SQ7hfRVb9.jpg\n",
      "../images/r123-watermark/cLAoxiZ092kU74de.jpg\n",
      "../images/test_images/cLAoxiZ092kU74de.jpg\n",
      "../images/non_watermark/1wSbXfUSMHcoorSK.jpg\n",
      "../images/test_images/1wSbXfUSMHcoorSK.jpg\n",
      "../images/r123-watermark/ljtfo3Ie79ply8C4.jpg\n",
      "../images/test_images/ljtfo3Ie79ply8C4.jpg\n",
      "../images/r123-watermark/HBJv80bJ7tQGGqR3.jpg\n",
      "../images/test_images/HBJv80bJ7tQGGqR3.jpg\n",
      "../images/non_watermark/yHhzUF4OHknmH0dh.png\n",
      "../images/test_images/yHhzUF4OHknmH0dh.jpg\n",
      "done\n"
     ]
    }
   ],
   "source": [
    "os.mkdir('../images/test_images/')\n",
    "for filepath in pd.read_csv('../dataset/test_data_v1.csv').path:\n",
    "    src = filepath #os.path.join(filepath, \"\")\n",
    "    dst = os.path.join('../images/test_images', os.path.splitext(filepath)[0].split('/')[3] + '.jpg')\n",
    "    shutil.copyfile(src, dst)\n",
    "print('done')"
   ]
  },
  {
   "cell_type": "code",
   "execution_count": 95,
   "metadata": {},
   "outputs": [],
   "source": [
    "import pathlib\n",
    "\n",
    "for x in list(pathlib.Path('../images/').glob('*.jpg')):\n",
    "    print(os.path.splitext(x)[0].split('/')[2] + '.jpg')"
   ]
  },
  {
   "cell_type": "code",
   "execution_count": 69,
   "metadata": {},
   "outputs": [],
   "source": [
    "os.mkdir('../images/test_images')"
   ]
  }
 ],
 "metadata": {
  "kernelspec": {
   "display_name": "3.9.13",
   "language": "python",
   "name": "python3"
  },
  "language_info": {
   "codemirror_mode": {
    "name": "ipython",
    "version": 3
   },
   "file_extension": ".py",
   "mimetype": "text/x-python",
   "name": "python",
   "nbconvert_exporter": "python",
   "pygments_lexer": "ipython3",
   "version": "3.9.13"
  }
 },
 "nbformat": 4,
 "nbformat_minor": 2
}
